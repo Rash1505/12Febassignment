{
 "cells": [
  {
   "cell_type": "markdown",
   "id": "7ea1bea2-a8fc-4af5-aef7-7d9d1173d9e9",
   "metadata": {},
   "source": [
    "Q1. what is an Exception in python? write the difference between Exceptions and syntax errors."
   ]
  },
  {
   "cell_type": "markdown",
   "id": "487a1c3b-d694-4aa1-89b5-a0e5ca9b9dcd",
   "metadata": {},
   "source": [
    "Exception occur during execution of program which disturb the normal flow of program. \n",
    "when Exception occur it generates an error message that discribes the type of exception and the line of code which cause the\n",
    "exeception.\n",
    "\n",
    "syntax error and exception both are the types of error.\n",
    "\n",
    "syntax error occur wheen we made a mistake while writting a code, this made the code impossibble to compile or interpret\n",
    "correctly. \n",
    "\n",
    "Exception is occur during the execution of program when something unexpected happens, such as trying to divided by zero or \n",
    "trying to accessing non-existing file."
   ]
  },
  {
   "cell_type": "markdown",
   "id": "c06b59e2-b6b6-46e6-8c70-3acc079097a7",
   "metadata": {},
   "source": [
    "Q2. what happens when an exception is not handled?Explain with an example."
   ]
  },
  {
   "cell_type": "markdown",
   "id": "badf6c95-849b-43bb-9933-5d9ffee557ea",
   "metadata": {},
   "source": [
    "If the exception is not handled in program, then program will terminate abruptly and display an error message.\n",
    "This happens because the program is unable to recover from error and still continue running as normal.\n",
    "\n",
    "for example:"
   ]
  },
  {
   "cell_type": "code",
   "execution_count": 59,
   "id": "673a0b55-28af-4e67-9b67-03bcb76354db",
   "metadata": {},
   "outputs": [],
   "source": [
    "try:\n",
    "    f = open('text11.txt','r')\n",
    "except Exception as e:\n",
    "    print('this is my except block',e)\n",
    "    "
   ]
  },
  {
   "cell_type": "markdown",
   "id": "da3500fc-6de5-4250-9e38-3b72b297a647",
   "metadata": {},
   "source": [
    "In above example, the program was unable to find the 'text11.txt' and exception is not handled by the\n",
    "program therfore program terminated the error message."
   ]
  },
  {
   "cell_type": "markdown",
   "id": "2d3f6f2e-ba02-427d-9e41-eb2cd6b4ef16",
   "metadata": {},
   "source": [
    "Q3. which python statements are used to catch and handle exceptions? Explain with an example."
   ]
  },
  {
   "cell_type": "markdown",
   "id": "4dfb08d3-412d-497f-b2cf-2d1e924764ed",
   "metadata": {},
   "source": [
    "python has in-built exceptions to catch and handle :-\n",
    "\n",
    "1. try & except\n",
    "2. else\n",
    "3. finally\n",
    "4. raise\n"
   ]
  },
  {
   "cell_type": "markdown",
   "id": "e15b31bd-874b-498f-a2d1-4aba3a90e602",
   "metadata": {},
   "source": [
    "1.example of try and except"
   ]
  },
  {
   "cell_type": "code",
   "execution_count": 60,
   "id": "4d8ad2c7-96c0-43df-99d9-b0817dcfe54a",
   "metadata": {},
   "outputs": [],
   "source": [
    "try:\n",
    "    f = open('text11.txt','r')\n",
    "except Exception as e:\n",
    "    print('this is my except block',e)"
   ]
  },
  {
   "cell_type": "markdown",
   "id": "818204ad-a44f-4b1a-86e1-dfa5f4eb185b",
   "metadata": {},
   "source": [
    "2. example of else"
   ]
  },
  {
   "cell_type": "code",
   "execution_count": 61,
   "id": "a921399c-daa0-4e18-a853-63aea349334b",
   "metadata": {},
   "outputs": [
    {
     "name": "stdout",
     "output_type": "stream",
     "text": [
      "this is my except  not writable\n"
     ]
    }
   ],
   "source": [
    "try:\n",
    "    f = open('text12.txt', 'r')\n",
    "    f.write('this is my file')\n",
    "except Exception as e:\n",
    "    print('this is my except ',e)\n",
    "else:\n",
    "    print('this will excecuted without error')"
   ]
  },
  {
   "cell_type": "markdown",
   "id": "1b02cf30-05ff-4782-8799-d55e331cdaa9",
   "metadata": {},
   "source": [
    "3. example of finally"
   ]
  },
  {
   "cell_type": "code",
   "execution_count": 62,
   "id": "51cf52cd-4b14-4527-8f90-a65bac211228",
   "metadata": {},
   "outputs": [
    {
     "name": "stdout",
     "output_type": "stream",
     "text": [
      "this will exceuted at any condition\n"
     ]
    }
   ],
   "source": [
    "try:\n",
    "    f= open('text13.txt','w')\n",
    "    f.write('this is my file')\n",
    "finally:\n",
    "    print('this will exceuted at any condition')"
   ]
  },
  {
   "cell_type": "markdown",
   "id": "c657862f-02fc-4384-8278-4fd1e03ad201",
   "metadata": {},
   "source": [
    "4. example of raise"
   ]
  },
  {
   "cell_type": "code",
   "execution_count": 63,
   "id": "8ba7cbc7-1dd5-427e-bd9d-174cf5d864a0",
   "metadata": {},
   "outputs": [],
   "source": [
    "class validateage(Exception):\n",
    "    \n",
    "    def __init__(self, msg):\n",
    "        self.msg = msg\n",
    "        "
   ]
  },
  {
   "cell_type": "code",
   "execution_count": 64,
   "id": "cdedd038-68f2-45e1-8611-966a9a826428",
   "metadata": {},
   "outputs": [],
   "source": [
    "def validateage(age):\n",
    "    if age < 0:\n",
    "        raise validateage('entered age is negative')\n",
    "    elif age > 200 :\n",
    "        raise validateage('entered age is very very high')\n",
    "    else:\n",
    "        print('age is valid')\n",
    "        "
   ]
  },
  {
   "cell_type": "code",
   "execution_count": 66,
   "id": "55414f99-4c73-45e6-9c50-ec3023af1ecd",
   "metadata": {},
   "outputs": [
    {
     "name": "stdin",
     "output_type": "stream",
     "text": [
      "enter your age 12\n"
     ]
    },
    {
     "name": "stdout",
     "output_type": "stream",
     "text": [
      "age is valid\n"
     ]
    }
   ],
   "source": [
    "try:\n",
    "    age = int(input('enter your age'))\n",
    "    validateage(age)\n",
    "except validateage as e:\n",
    "    print(e)\n",
    "        "
   ]
  },
  {
   "cell_type": "markdown",
   "id": "b23ecb49-18f3-4795-9e78-fe3cb89a4d71",
   "metadata": {},
   "source": [
    "Q4. explain with an example \n",
    "\n",
    "a. try and else\n",
    "b. finally\n",
    "c. raise"
   ]
  },
  {
   "cell_type": "markdown",
   "id": "573d37dc-82a3-4775-8252-56c0753a53d1",
   "metadata": {},
   "source": [
    "a) try and else:- these blocks are used to handle the exception during the exceution of program.\n",
    "                 the 'else' block can be used with 'try' and 'except' which should be executed only if no exception was raised."
   ]
  },
  {
   "cell_type": "code",
   "execution_count": 67,
   "id": "946539ea-c147-4704-88c9-c36dc3c05707",
   "metadata": {},
   "outputs": [
    {
     "name": "stdin",
     "output_type": "stream",
     "text": [
      "enter your 1st number 2\n",
      "enter your 2nd number 0\n"
     ]
    },
    {
     "name": "stdout",
     "output_type": "stream",
     "text": [
      "invalid literal\n"
     ]
    }
   ],
   "source": [
    "try:\n",
    "    num1=int(input('enter your 1st number'))\n",
    "    num2= int(input('enter your 2nd number'))\n",
    "    result = num1/num2\n",
    "except Exception as e:\n",
    "    print('invalid literal')\n",
    "else:\n",
    "    print('this is the result')"
   ]
  },
  {
   "cell_type": "markdown",
   "id": "a504930d-2741-4602-9ace-cd0d624003d0",
   "metadata": {},
   "source": [
    "in above example, we entered two number and tried to divide them, as I give 2 as first number and 0 as second number that means\n",
    "i give an invalid value and the exception was raised and the program printed the message 'invalid literal'.\n",
    "if the exception will not raise then the program will execute the code in 'else' block."
   ]
  },
  {
   "cell_type": "markdown",
   "id": "c315d9b7-f7ae-4740-9b04-e10f9d708e4f",
   "metadata": {},
   "source": [
    "b) finally:- It is used in exception handling which defines,the code will be executed wheather the exception is raised or not\n",
    "in try block."
   ]
  },
  {
   "cell_type": "code",
   "execution_count": 68,
   "id": "310ff261-95fe-4866-8b2f-89d47159a739",
   "metadata": {},
   "outputs": [
    {
     "name": "stdout",
     "output_type": "stream",
     "text": [
      "file not found\n",
      "finally will execute itself in any condition\n"
     ]
    }
   ],
   "source": [
    "try:\n",
    "    f = open('test.txt','r')\n",
    "    r=f.read()\n",
    "    print(r)\n",
    "except Exception as e:\n",
    "    print('file not found')\n",
    "    \n",
    "finally:\n",
    "    print('finally will execute itself in any condition')\n",
    " \n",
    "    "
   ]
  },
  {
   "cell_type": "markdown",
   "id": "71f0676b-85bd-4079-9be6-8ff9fe9e5161",
   "metadata": {},
   "source": [
    "in this code, we try to open a file 'test.txt' in read mode but the file was not found hence the Exception is raised and we\n",
    "handled it by priting an error message and finally message also is executed "
   ]
  },
  {
   "cell_type": "markdown",
   "id": "7a632762-cdea-43b4-b380-c29358ab79d9",
   "metadata": {},
   "source": [
    "c) raise:- 'raise' statement is usedhandled an exceptional error in program."
   ]
  },
  {
   "cell_type": "code",
   "execution_count": 69,
   "id": "cab0f9d9-d569-4161-b5b8-1f4e679f2ab1",
   "metadata": {},
   "outputs": [
    {
     "name": "stdout",
     "output_type": "stream",
     "text": [
      "cannot multiply by zero\n"
     ]
    }
   ],
   "source": [
    "def multiply(x,y):\n",
    "    if x == 0 or y == 0:\n",
    "            raise Exception ('cannot multiply by zero')\n",
    "    else:\n",
    "        return x*y\n",
    "try:\n",
    "    r=multiply(1,0)  \n",
    "    print(r)\n",
    "except Exception as e:\n",
    "    print(e)\n",
    "    "
   ]
  },
  {
   "cell_type": "markdown",
   "id": "ef70880d-f649-47b9-86af-e03f20b25e44",
   "metadata": {},
   "source": [
    "in this example, we define a function 'multiply' in which we take two arguments 'x' and'y'.\n",
    "If 'x' or'y' is 0 then function raise a error with a custom message' cannot multiply by zero'. otherwise the function will\n",
    "return the result of multiply."
   ]
  },
  {
   "cell_type": "markdown",
   "id": "a9a01374-0411-4711-9ba9-4ae550e7845e",
   "metadata": {},
   "source": [
    "Q5. What are Custom Exceptions in python? why do we need Custom Exceptions? Explain with an example."
   ]
  },
  {
   "cell_type": "markdown",
   "id": "12884e53-a30f-4d6d-947b-3a81c4f05326",
   "metadata": {},
   "source": [
    "Custom exception is a user-defined exception which allows us to create and raise our own exception with specific error message.\n",
    "we need custom exception when in-built exception in python do not fit our speicfic need of program. It helps us to made more specific error message ."
   ]
  },
  {
   "cell_type": "code",
   "execution_count": 70,
   "id": "fbc4aa44-7a58-4a3d-9aba-61d49a6e7047",
   "metadata": {},
   "outputs": [],
   "source": [
    "class validateage(Exception):\n",
    "    \n",
    "    def __init__(self, msg):\n",
    "        self.msg = msg\n",
    "        \n",
    "\n",
    "        "
   ]
  },
  {
   "cell_type": "code",
   "execution_count": 71,
   "id": "c300dc37-f3ae-4c4b-84f9-5b346b3eab2e",
   "metadata": {},
   "outputs": [],
   "source": [
    "def validateage(age):\n",
    "    if age < 0:\n",
    "        raise validateage('entered age is negative')\n",
    "    elif age > 200 :\n",
    "        raise validateage('entered age is very very high')\n",
    "    else:\n",
    "        print('age is valid')"
   ]
  },
  {
   "cell_type": "code",
   "execution_count": 72,
   "id": "8a3868de-24fd-45c7-b176-01480b75ffb3",
   "metadata": {},
   "outputs": [
    {
     "name": "stdin",
     "output_type": "stream",
     "text": [
      "enter your age 10\n"
     ]
    },
    {
     "name": "stdout",
     "output_type": "stream",
     "text": [
      "age is valid\n"
     ]
    }
   ],
   "source": [
    "try:\n",
    "    age= int(input('enter your age'))\n",
    "    validateage(age)\n",
    "except validateage as e:\n",
    "    print(e)"
   ]
  },
  {
   "cell_type": "markdown",
   "id": "e62a79f7-cd0a-44da-bfac-9532f594d53e",
   "metadata": {},
   "source": [
    "Q6.Create a custom exception class. Use this class to handle an exception."
   ]
  },
  {
   "cell_type": "code",
   "execution_count": 80,
   "id": "c102caa9-671b-4498-a352-fcc756ade177",
   "metadata": {},
   "outputs": [
    {
     "name": "stdin",
     "output_type": "stream",
     "text": [
      "enter your salary:  12000\n"
     ]
    },
    {
     "name": "stdout",
     "output_type": "stream",
     "text": [
      "amount is correct\n"
     ]
    }
   ],
   "source": [
    "class SalaryNotInRangeError(Exception):\n",
    "    def __init__(self, msg):\n",
    "        self.msg = msg\n",
    "        \n",
    "    def SalaryNotInRangeError(self, salary):\n",
    "        if salary < 5000:\n",
    "            raise SalaryNotInRangeError('amount is low')\n",
    "        elif salary > 15000:\n",
    "            raise SalaryNotInRangeError('amount is high')\n",
    "        else:\n",
    "            print('amount is correct')\n",
    "        \n",
    "try:\n",
    "    salary = int(input('enter your salary: '))\n",
    "    e = SalaryNotInRangeError('')\n",
    "    e.SalaryNotInRangeError(salary)\n",
    "except Exception as e:\n",
    "    print(e.msg)\n"
   ]
  },
  {
   "cell_type": "code",
   "execution_count": null,
   "id": "096c98db-76be-476d-ae65-e7045df39ecf",
   "metadata": {},
   "outputs": [],
   "source": []
  }
 ],
 "metadata": {
  "kernelspec": {
   "display_name": "Python 3 (ipykernel)",
   "language": "python",
   "name": "python3"
  },
  "language_info": {
   "codemirror_mode": {
    "name": "ipython",
    "version": 3
   },
   "file_extension": ".py",
   "mimetype": "text/x-python",
   "name": "python",
   "nbconvert_exporter": "python",
   "pygments_lexer": "ipython3",
   "version": "3.10.8"
  }
 },
 "nbformat": 4,
 "nbformat_minor": 5
}
